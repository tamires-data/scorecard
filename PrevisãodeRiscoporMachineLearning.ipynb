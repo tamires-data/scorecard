{
  "nbformat": 4,
  "nbformat_minor": 0,
  "metadata": {
    "kernelspec": {
      "display_name": "Python 3",
      "language": "python",
      "name": "python3"
    },
    "language_info": {
      "codemirror_mode": {
        "name": "ipython",
        "version": 3
      },
      "file_extension": ".py",
      "mimetype": "text/x-python",
      "name": "python",
      "nbconvert_exporter": "python",
      "pygments_lexer": "ipython3",
      "version": "3.7.3"
    },
    "colab": {
      "name": "PrevisãodeRiscoporMachineLearning.ipynb",
      "provenance": [],
      "collapsed_sections": [
        "lLT5PCW93nop"
      ]
    }
  },
  "cells": [
    {
      "cell_type": "code",
      "metadata": {
        "_cell_guid": "b1076dfc-b9ad-4769-8c92-a6c4dae69d19",
        "_uuid": "8f2839f25d086af736a60e9eeb907d3b93b6e0e5",
        "id": "fUj148k83noV"
      },
      "source": [
        "# Previsão de Risco dos atributos de um empréstimo por algoritmo de machine learning \n",
        "import numpy as np\n",
        "import pandas as pd \n",
        "from copy import deepcopy\n",
        "import random\n",
        "\n",
        "\n",
        "from sklearn.preprocessing import LabelEncoder\n",
        "\n",
        "\n",
        "import os\n",
        "\n",
        "import warnings\n",
        "warnings.filterwarnings('ignore')\n",
        "\n",
        "\n",
        "import matplotlib.pyplot as plt\n",
        "import seaborn as sns\n",
        "\n",
        "from sklearn.model_selection import train_test_split\n",
        "\n",
        "\n",
        "from sklearn import datasets\n",
        "from sklearn.model_selection import train_test_split\n",
        "from sklearn.tree import DecisionTreeClassifier\n",
        "from sklearn import tree\n",
        "\n",
        "from sklearn.model_selection import StratifiedKFold\n",
        "from sklearn.model_selection import cross_val_score, cross_val_predict\n",
        "from sklearn.preprocessing import StandardScaler, MinMaxScaler\n",
        "\n",
        "from sklearn.linear_model import LogisticRegression\n",
        "\n",
        "from sklearn.metrics import accuracy_score, f1_score, precision_score, recall_score, classification_report, confusion_matrix\n",
        "from sklearn.metrics import roc_curve, auc\n",
        "from sklearn.metrics import matthews_corrcoef\n",
        "from sklearn.model_selection import cross_validate\n",
        "from sklearn.metrics import make_scorer\n",
        "\n",
        "from sklearn.linear_model import LogisticRegression\n",
        "from sklearn.metrics import accuracy_score\n",
        "from sklearn.metrics import matthews_corrcoef\n",
        "from sklearn.tree import DecisionTreeClassifier\n",
        "from xgboost import XGBClassifier\n",
        "from sklearn.model_selection import KFold\n",
        "from sklearn.model_selection import GridSearchCV\n",
        "from sklearn.model_selection import RandomizedSearchCV\n",
        "\n",
        "\n",
        "from sklearn.feature_selection import SelectFromModel\n",
        "from sklearn.ensemble import RandomForestClassifier\n",
        "\n",
        "\n",
        "\n",
        "from sklearn.model_selection import cross_val_score\n",
        "\n",
        "from collections import defaultdict\n",
        "%matplotlib inline\n",
        "\n",
        "import warnings\n",
        "warnings.filterwarnings(\"ignore\")"
      ],
      "execution_count": null,
      "outputs": []
    },
    {
      "cell_type": "code",
      "metadata": {
        "id": "xGsMvxEE3noX"
      },
      "source": [
        "df = pd.read_csv(\"Case.csv\")"
      ],
      "execution_count": null,
      "outputs": []
    },
    {
      "cell_type": "code",
      "metadata": {
        "colab": {
          "base_uri": "https://localhost:8080/",
          "height": 205
        },
        "id": "-j5bM7kt3noY",
        "outputId": "cc73ff9f-d757-4cc6-b650-db9a49de446e"
      },
      "source": [
        "df.head()"
      ],
      "execution_count": null,
      "outputs": [
        {
          "output_type": "execute_result",
          "data": {
            "text/html": [
              "<div>\n",
              "<style scoped>\n",
              "    .dataframe tbody tr th:only-of-type {\n",
              "        vertical-align: middle;\n",
              "    }\n",
              "\n",
              "    .dataframe tbody tr th {\n",
              "        vertical-align: top;\n",
              "    }\n",
              "\n",
              "    .dataframe thead th {\n",
              "        text-align: right;\n",
              "    }\n",
              "</style>\n",
              "<table border=\"1\" class=\"dataframe\">\n",
              "  <thead>\n",
              "    <tr style=\"text-align: right;\">\n",
              "      <th></th>\n",
              "      <th>idade</th>\n",
              "      <th>experiencia</th>\n",
              "      <th>tempo_endereco</th>\n",
              "      <th>renda</th>\n",
              "      <th>debito_renda</th>\n",
              "      <th>cred_deb</th>\n",
              "      <th>outros_debitos</th>\n",
              "      <th>mau</th>\n",
              "    </tr>\n",
              "  </thead>\n",
              "  <tbody>\n",
              "    <tr>\n",
              "      <th>0</th>\n",
              "      <td>41</td>\n",
              "      <td>17</td>\n",
              "      <td>12</td>\n",
              "      <td>35.9</td>\n",
              "      <td>11.90</td>\n",
              "      <td>0.504108</td>\n",
              "      <td>3.767992</td>\n",
              "      <td>0</td>\n",
              "    </tr>\n",
              "    <tr>\n",
              "      <th>1</th>\n",
              "      <td>30</td>\n",
              "      <td>13</td>\n",
              "      <td>8</td>\n",
              "      <td>46.7</td>\n",
              "      <td>17.88</td>\n",
              "      <td>1.352694</td>\n",
              "      <td>6.997266</td>\n",
              "      <td>0</td>\n",
              "    </tr>\n",
              "    <tr>\n",
              "      <th>2</th>\n",
              "      <td>40</td>\n",
              "      <td>15</td>\n",
              "      <td>14</td>\n",
              "      <td>61.8</td>\n",
              "      <td>10.64</td>\n",
              "      <td>3.438997</td>\n",
              "      <td>3.136523</td>\n",
              "      <td>0</td>\n",
              "    </tr>\n",
              "    <tr>\n",
              "      <th>3</th>\n",
              "      <td>41</td>\n",
              "      <td>15</td>\n",
              "      <td>14</td>\n",
              "      <td>72.0</td>\n",
              "      <td>29.67</td>\n",
              "      <td>4.165668</td>\n",
              "      <td>17.196732</td>\n",
              "      <td>0</td>\n",
              "    </tr>\n",
              "    <tr>\n",
              "      <th>4</th>\n",
              "      <td>57</td>\n",
              "      <td>7</td>\n",
              "      <td>37</td>\n",
              "      <td>25.6</td>\n",
              "      <td>15.86</td>\n",
              "      <td>1.498199</td>\n",
              "      <td>2.561961</td>\n",
              "      <td>0</td>\n",
              "    </tr>\n",
              "  </tbody>\n",
              "</table>\n",
              "</div>"
            ],
            "text/plain": [
              "   idade  experiencia  tempo_endereco  ...  cred_deb  outros_debitos  mau\n",
              "0     41           17              12  ...  0.504108        3.767992    0\n",
              "1     30           13               8  ...  1.352694        6.997266    0\n",
              "2     40           15              14  ...  3.438997        3.136523    0\n",
              "3     41           15              14  ...  4.165668       17.196732    0\n",
              "4     57            7              37  ...  1.498199        2.561961    0\n",
              "\n",
              "[5 rows x 8 columns]"
            ]
          },
          "metadata": {
            "tags": []
          },
          "execution_count": 117
        }
      ]
    },
    {
      "cell_type": "code",
      "metadata": {
        "id": "XyVKxFXJ3noa"
      },
      "source": [
        "# Reamostrando variáveis \n",
        "df_bal = deepcopy(df) # Please note the difference between shallow copy and deep copy in Python\n",
        "df_bal.dropna(inplace=True) # Drop missing values\n",
        "\n",
        "\n",
        "random.seed(1234)\n",
        "\n",
        "\n",
        "count_class_0, count_class_1 = df_bal['mau'].value_counts()\n",
        "\n",
        "\n",
        "df_class_0 = df_bal[df_bal['mau'] == 0]\n",
        "df_class_1 = df_bal[df_bal['mau'] == 1]\n",
        "\n",
        "\n",
        "df_class_1_over = df_class_1.sample(count_class_0, replace=True, random_state=1234)\n",
        "df_bal = pd.concat([df_class_1_over, df_class_0], axis=0)\n",
        "\n",
        "df_bal.reset_index(inplace = True)"
      ],
      "execution_count": null,
      "outputs": []
    },
    {
      "cell_type": "code",
      "metadata": {
        "colab": {
          "base_uri": "https://localhost:8080/"
        },
        "id": "i7aqj-2_3nob",
        "outputId": "e2726aae-fde5-41fd-82e6-95ebc709a767"
      },
      "source": [
        "df_bal['mau'].value_counts()"
      ],
      "execution_count": null,
      "outputs": [
        {
          "output_type": "execute_result",
          "data": {
            "text/plain": [
              "1    3744\n",
              "0    3744\n",
              "Name: mau, dtype: int64"
            ]
          },
          "metadata": {
            "tags": []
          },
          "execution_count": 119
        }
      ]
    },
    {
      "cell_type": "code",
      "metadata": {
        "colab": {
          "base_uri": "https://localhost:8080/"
        },
        "id": "Zjo0ALIJ3nob",
        "outputId": "b7aee68f-54aa-483a-9cd8-34c82966ea70"
      },
      "source": [
        "df_bal.dtypes.value_counts()"
      ],
      "execution_count": null,
      "outputs": [
        {
          "output_type": "execute_result",
          "data": {
            "text/plain": [
              "int64      5\n",
              "float64    4\n",
              "dtype: int64"
            ]
          },
          "metadata": {
            "tags": []
          },
          "execution_count": 120
        }
      ]
    },
    {
      "cell_type": "code",
      "metadata": {
        "id": "4BTU5vth3noc"
      },
      "source": [
        "# \n",
        "# Diferenciação entre variáveis numéricas e categóricas \n",
        "numerical = df_bal.apply(pd.Series.nunique, axis = 0)[df_bal.apply(pd.Series.nunique, axis = 0).values>10].index\n",
        "categorical = df_bal.apply(pd.Series.nunique, axis = 0)[df_bal.apply(pd.Series.nunique, axis = 0).values<=10].index\n",
        "numerical = [i for i in numerical if i != 'index']\n",
        "categorical = [i for i in categorical if i != 'bad_loans']"
      ],
      "execution_count": null,
      "outputs": []
    },
    {
      "cell_type": "code",
      "metadata": {
        "colab": {
          "base_uri": "https://localhost:8080/"
        },
        "id": "VHnDZ1Gz3nod",
        "outputId": "131d7859-6b58-4e78-c8af-e995a0147143"
      },
      "source": [
        " df_bal.apply(pd.Series.nunique, axis = 0)[df_bal.apply(pd.Series.nunique, axis = 0).values<=10]"
      ],
      "execution_count": null,
      "outputs": [
        {
          "output_type": "execute_result",
          "data": {
            "text/plain": [
              "mau    2\n",
              "dtype: int64"
            ]
          },
          "metadata": {
            "tags": []
          },
          "execution_count": 146
        }
      ]
    },
    {
      "cell_type": "code",
      "metadata": {
        "scrolled": true,
        "colab": {
          "base_uri": "https://localhost:8080/"
        },
        "id": "OMKL_d_L3nod",
        "outputId": "6cab5165-da37-400e-ca69-3a4a4be55738"
      },
      "source": [
        "numerical"
      ],
      "execution_count": null,
      "outputs": [
        {
          "output_type": "execute_result",
          "data": {
            "text/plain": [
              "['idade',\n",
              " 'experiencia',\n",
              " 'tempo_endereco',\n",
              " 'renda',\n",
              " 'debito_renda',\n",
              " 'cred_deb',\n",
              " 'outros_debitos']"
            ]
          },
          "metadata": {
            "tags": []
          },
          "execution_count": 147
        }
      ]
    },
    {
      "cell_type": "code",
      "metadata": {
        "id": "-sQNxMmu3noe"
      },
      "source": [
        "import seaborn as sns\n",
        "sns.set(style=\"darkgrid\")"
      ],
      "execution_count": null,
      "outputs": []
    },
    {
      "cell_type": "code",
      "metadata": {
        "colab": {
          "base_uri": "https://localhost:8080/",
          "height": 285
        },
        "id": "AzVzEmNt3nof",
        "outputId": "1e9472ec-b9dd-401f-f6bd-8046f9033fe4"
      },
      "source": [
        "#Frequência de variáveis categóricas \n",
        "for var in categorical:\n",
        "    plt.figure()\n",
        "    ax = sns.countplot(x=var, data=df_bal)"
      ],
      "execution_count": null,
      "outputs": [
        {
          "output_type": "display_data",
          "data": {
            "image/png": "[encoded data removed]",
            "text/plain": [
              "<Figure size 432x288 with 1 Axes>"
            ]
          },
          "metadata": {
            "tags": []
          }
        }
      ]
    },
    {
      "cell_type": "markdown",
      "metadata": {
        "id": "r5J6Mz-i3noi"
      },
      "source": [
        "### Explorando variáveis "
      ]
    },
    {
      "cell_type": "code",
      "metadata": {
        "colab": {
          "base_uri": "https://localhost:8080/",
          "height": 1000
        },
        "id": "FbcfMTj13noi",
        "outputId": "9021951a-e3b2-44e7-ab5f-1ca01c3add76"
      },
      "source": [
        "quantile_list = [0,0.25,0.5,0.75,1]\n",
        "#quantile_labels = ['0-25Q','25-50Q','50-75Q','75-100Q']\n",
        "df_bin = pd.DataFrame()\n",
        "df_bin['mau'] = df_bal['mau']\n",
        "for var in numerical:\n",
        "    df_bin[var]=pd.qcut(df_bal[var],q=quantile_list,duplicates='drop')\n",
        "    plt.figure()\n",
        "    ax = sns.countplot(x=var, hue='mau',data=df_bin)"
      ],
      "execution_count": null,
      "outputs": [
        {
          "output_type": "display_data",
          "data": {
            "image/png": "[encoded data removed]",
            "text/plain": [
              "<Figure size 432x288 with 1 Axes>"
            ]
          },
          "metadata": {
            "tags": []
          }
        },
        {
          "output_type": "display_data",
          "data": {
            "image/png": "[encoded data removed]",
            "text/plain": [
              "<Figure size 432x288 with 1 Axes>"
            ]
          },
          "metadata": {
            "tags": []
          }
        },
        {
          "output_type": "display_data",
          "data": {
            "image/png": "[encoded data removed]",
            "text/plain": [
              "<Figure size 432x288 with 1 Axes>"
            ]
          },
          "metadata": {
            "tags": []
          }
        },
        {
          "output_type": "display_data",
          "data": {
            "image/png": "[encoded data removed]",
            "text/plain": [
              "<Figure size 432x288 with 1 Axes>"
            ]
          },
          "metadata": {
            "tags": []
          }
        },
        {
          "output_type": "display_data",
          "data": {
            "image/png": "[encoded data removed]",
            "text/plain": [
              "<Figure size 432x288 with 1 Axes>"
            ]
          },
          "metadata": {
            "tags": []
          }
        },
        {
          "output_type": "display_data",
          "data": {
            "image/png": "[encoded data removed]",
            "text/plain": [
              "<Figure size 432x288 with 1 Axes>"
            ]
          },
          "metadata": {
            "tags": []
          }
        },
        {
          "output_type": "display_data",
          "data": {
            "image/png": "[encoded data removed]",
            "text/plain": [
              "<Figure size 432x288 with 1 Axes>"
            ]
          },
          "metadata": {
            "tags": []
          }
        }
      ]
    },
    {
      "cell_type": "markdown",
      "metadata": {
        "id": "eY_3nyMs3noj"
      },
      "source": [
        "## Seleção de variáveis\n",
        "\n"
      ]
    },
    {
      "cell_type": "markdown",
      "metadata": {
        "id": "cXVOx5aj3nok"
      },
      "source": [
        "### 1) Teste chi2 "
      ]
    },
    {
      "cell_type": "code",
      "metadata": {
        "id": "M9l-4Orf3nok"
      },
      "source": [
        "import scipy.stats as stats\n",
        "from scipy.stats import chi2_contingency\n",
        "\n",
        "class ChiSquare:\n",
        "    def __init__(self, dataframe):\n",
        "        self.df = dataframe\n",
        "        self.p = None #P-Value\n",
        "        self.chi2 = None #Chi Test Statistic\n",
        "        self.dof = None\n",
        "        \n",
        "        self.dfObserved = None\n",
        "        self.dfExpected = None\n",
        "        \n",
        "    def _chisquare_result(self, colX, alpha):\n",
        "        result = \"\"\n",
        "        if self.p<alpha:\n",
        "            result=\"{0} is IMPORTANT for Prediction\".format(colX)\n",
        "        else:\n",
        "            result=\"{0} is NOT an important predictor. (Discard {0} from model)\".format(colX)\n",
        "\n",
        "        print(result)\n",
        "        \n",
        "    def TestIndependence(self,colX,colY, alpha=0.05):\n",
        "        X = self.df[colX].astype(str)\n",
        "        Y = self.df[colY].astype(str)\n",
        "        \n",
        "        self.dfObserved = pd.crosstab(Y,X) \n",
        "        chi2, p, dof, expected = stats.chi2_contingency(self.dfObserved.values)\n",
        "        self.p = p\n",
        "        self.chi2 = chi2\n",
        "        self.dof = dof \n",
        "        \n",
        "        self.dfExpected = pd.DataFrame(expected, columns=self.dfObserved.columns, index = self.dfObserved.index)\n",
        "        if self.p<alpha:\n",
        "            return True # accept variable\n",
        "        else:\n",
        "            return False"
      ],
      "execution_count": null,
      "outputs": []
    },
    {
      "cell_type": "code",
      "metadata": {
        "id": "1RzYHnQp3nol"
      },
      "source": [
        "accept_cT = []\n",
        "reject_cT = []"
      ],
      "execution_count": null,
      "outputs": []
    },
    {
      "cell_type": "code",
      "metadata": {
        "id": "kPcQLyg53nol"
      },
      "source": [
        "#Initialize ChiSquare Class\n",
        "cT = ChiSquare(df_bal)\n",
        "\n",
        "#Feature Selection\n",
        "for var in categorical:\n",
        "    status = cT.TestIndependence(colX=var,colY=\"mau\")  \n",
        "    if status:\n",
        "        accept_cT.append(var)\n",
        "    else:\n",
        "        reject_cT.append(var)"
      ],
      "execution_count": null,
      "outputs": []
    },
    {
      "cell_type": "code",
      "metadata": {
        "id": "5yvS3w5r3nom"
      },
      "source": [
        "#Initialize ChiSquare Class\n",
        "cT = ChiSquare(df_bin)\n",
        "\n",
        "#Feature Selection\n",
        "for var in numerical:\n",
        "    status = cT.TestIndependence(colX=var,colY=\"mau\")  \n",
        "    if status:\n",
        "        accept_cT.append(var)\n",
        "    else:\n",
        "        reject_cT.append(var)"
      ],
      "execution_count": null,
      "outputs": []
    },
    {
      "cell_type": "code",
      "metadata": {
        "colab": {
          "base_uri": "https://localhost:8080/"
        },
        "id": "qAsR7A6l3non",
        "outputId": "a304f9dd-8883-4501-85d1-94ef41a555b4"
      },
      "source": [
        "# Baseado no Chi quadrado a variável deve ser removida \n",
        "reject_cT"
      ],
      "execution_count": null,
      "outputs": [
        {
          "output_type": "execute_result",
          "data": {
            "text/plain": [
              "[]"
            ]
          },
          "metadata": {
            "tags": []
          },
          "execution_count": 149
        }
      ]
    },
    {
      "cell_type": "code",
      "metadata": {
        "scrolled": true,
        "colab": {
          "base_uri": "https://localhost:8080/"
        },
        "id": "ia9kqseZ3noo",
        "outputId": "01f35e23-7f83-47a3-b41c-573f6f2b6ebf"
      },
      "source": [
        "reject_ig"
      ],
      "execution_count": null,
      "outputs": [
        {
          "output_type": "execute_result",
          "data": {
            "text/plain": [
              "[]"
            ]
          },
          "metadata": {
            "tags": []
          },
          "execution_count": 132
        }
      ]
    },
    {
      "cell_type": "markdown",
      "metadata": {
        "id": "lLT5PCW93nop"
      },
      "source": [
        "Seleção de variável por random forest  from Random Forest Classifier"
      ]
    },
    {
      "cell_type": "code",
      "metadata": {
        "colab": {
          "base_uri": "https://localhost:8080/"
        },
        "id": "KVfd4_0Y3nop",
        "outputId": "913fdb03-c006-4651-8a65-3d58c61eeb4b"
      },
      "source": [
        "from sklearn.feature_selection import SelectFromModel\n",
        "from sklearn.ensemble import RandomForestClassifier\n",
        "\n",
        "features = numerical + categorical\n",
        "rf_sel = SelectFromModel(RandomForestClassifier(n_estimators = 100), threshold='median')\n",
        "rf_sel.fit(df_bal[features], df_bal['mau'])"
      ],
      "execution_count": null,
      "outputs": [
        {
          "output_type": "execute_result",
          "data": {
            "text/plain": [
              "SelectFromModel(estimator=RandomForestClassifier(bootstrap=True, ccp_alpha=0.0,\n",
              "                                                 class_weight=None,\n",
              "                                                 criterion='gini',\n",
              "                                                 max_depth=None,\n",
              "                                                 max_features='auto',\n",
              "                                                 max_leaf_nodes=None,\n",
              "                                                 max_samples=None,\n",
              "                                                 min_impurity_decrease=0.0,\n",
              "                                                 min_impurity_split=None,\n",
              "                                                 min_samples_leaf=1,\n",
              "                                                 min_samples_split=2,\n",
              "                                                 min_weight_fraction_leaf=0.0,\n",
              "                                                 n_estimators=100, n_jobs=None,\n",
              "                                                 oob_score=False,\n",
              "                                                 random_state=None, verbose=0,\n",
              "                                                 warm_start=False),\n",
              "                max_features=None, norm_order=1, prefit=False,\n",
              "                threshold='median')"
            ]
          },
          "metadata": {
            "tags": []
          },
          "execution_count": 133
        }
      ]
    },
    {
      "cell_type": "code",
      "metadata": {
        "colab": {
          "base_uri": "https://localhost:8080/"
        },
        "id": "LJ-tPBgm3noq",
        "outputId": "9536e870-8c65-4b0c-d968-6776e06356eb"
      },
      "source": [
        "random_forest_feat = df_bal[features].columns[rf_sel.get_support()]\n",
        "print(len(random_forest_feat))\n",
        "print(random_forest_feat)"
      ],
      "execution_count": null,
      "outputs": [
        {
          "output_type": "stream",
          "text": [
            "4\n",
            "Index(['experiencia', 'debito_renda', 'cred_deb', 'mau'], dtype='object')\n"
          ],
          "name": "stdout"
        }
      ]
    },
    {
      "cell_type": "markdown",
      "metadata": {
        "id": "xVgQKNgB3noq"
      },
      "source": [
        "### 4) Seleção de variáveis utilizando  Gradient Boosting Classifier"
      ]
    },
    {
      "cell_type": "code",
      "metadata": {
        "colab": {
          "base_uri": "https://localhost:8080/"
        },
        "id": "Cx1njBBz3noq",
        "outputId": "ed7b5200-4902-487b-8f5c-5528037e5c5a"
      },
      "source": [
        "from sklearn.ensemble import GradientBoostingClassifier\n",
        "\n",
        "gb_sel = SelectFromModel(GradientBoostingClassifier(n_estimators = 100), threshold='median')\n",
        "gb_sel.fit(df_bal[features], df_bal['mau'])\n",
        "gradient_boost_feat = df_bal[features].columns[gb_sel.get_support()]\n",
        "print(len(gradient_boost_feat))\n",
        "print(gradient_boost_feat)"
      ],
      "execution_count": null,
      "outputs": [
        {
          "output_type": "stream",
          "text": [
            "8\n",
            "Index(['idade', 'experiencia', 'tempo_endereco', 'renda', 'debito_renda',\n",
            "       'cred_deb', 'outros_debitos', 'mau'],\n",
            "      dtype='object')\n"
          ],
          "name": "stdout"
        }
      ]
    },
    {
      "cell_type": "code",
      "metadata": {
        "id": "j5MBX73O3nor"
      },
      "source": [
        "correlation = []\n",
        "infogain = []\n",
        "randomforest_select = []\n",
        "gradientboost_select = []\n",
        "finalselection = pd.DataFrame()\n",
        "for var in features:\n",
        "    correlation.append(int(var in accept_cT))\n",
        "    infogain.append(int(var in accept_ig))\n",
        "    randomforest_select.append(int(var in random_forest_feat))\n",
        "    gradientboost_select.append(int(var in gradient_boost_feat))\n",
        "\n",
        "finalselection['variable'] = features\n",
        "finalselection['correlation'] = correlation\n",
        "finalselection['infogain'] = infogain\n",
        "finalselection['randomforest_select'] = randomforest_select\n",
        "finalselection['gradientboost_select'] = gradientboost_select\n",
        "finalselection['sum'] = finalselection['correlation']+finalselection['infogain']+finalselection['randomforest_select']+finalselection['gradientboost_select']\n",
        "finalselection['choice'] = finalselection['sum'] >= 2"
      ],
      "execution_count": null,
      "outputs": []
    },
    {
      "cell_type": "code",
      "metadata": {
        "colab": {
          "base_uri": "https://localhost:8080/",
          "height": 299
        },
        "id": "k8Ce9j7k3nor",
        "outputId": "32b13228-d72d-4768-ae77-53bde2ede575"
      },
      "source": [
        "finalselection.head(10)"
      ],
      "execution_count": null,
      "outputs": [
        {
          "output_type": "execute_result",
          "data": {
            "text/html": [
              "<div>\n",
              "<style scoped>\n",
              "    .dataframe tbody tr th:only-of-type {\n",
              "        vertical-align: middle;\n",
              "    }\n",
              "\n",
              "    .dataframe tbody tr th {\n",
              "        vertical-align: top;\n",
              "    }\n",
              "\n",
              "    .dataframe thead th {\n",
              "        text-align: right;\n",
              "    }\n",
              "</style>\n",
              "<table border=\"1\" class=\"dataframe\">\n",
              "  <thead>\n",
              "    <tr style=\"text-align: right;\">\n",
              "      <th></th>\n",
              "      <th>variable</th>\n",
              "      <th>correlation</th>\n",
              "      <th>infogain</th>\n",
              "      <th>randomforest_select</th>\n",
              "      <th>gradientboost_select</th>\n",
              "      <th>sum</th>\n",
              "      <th>choice</th>\n",
              "    </tr>\n",
              "  </thead>\n",
              "  <tbody>\n",
              "    <tr>\n",
              "      <th>0</th>\n",
              "      <td>idade</td>\n",
              "      <td>1</td>\n",
              "      <td>0</td>\n",
              "      <td>0</td>\n",
              "      <td>1</td>\n",
              "      <td>2</td>\n",
              "      <td>True</td>\n",
              "    </tr>\n",
              "    <tr>\n",
              "      <th>1</th>\n",
              "      <td>experiencia</td>\n",
              "      <td>1</td>\n",
              "      <td>0</td>\n",
              "      <td>1</td>\n",
              "      <td>1</td>\n",
              "      <td>3</td>\n",
              "      <td>True</td>\n",
              "    </tr>\n",
              "    <tr>\n",
              "      <th>2</th>\n",
              "      <td>tempo_endereco</td>\n",
              "      <td>1</td>\n",
              "      <td>0</td>\n",
              "      <td>0</td>\n",
              "      <td>1</td>\n",
              "      <td>2</td>\n",
              "      <td>True</td>\n",
              "    </tr>\n",
              "    <tr>\n",
              "      <th>3</th>\n",
              "      <td>renda</td>\n",
              "      <td>1</td>\n",
              "      <td>0</td>\n",
              "      <td>0</td>\n",
              "      <td>1</td>\n",
              "      <td>2</td>\n",
              "      <td>True</td>\n",
              "    </tr>\n",
              "    <tr>\n",
              "      <th>4</th>\n",
              "      <td>debito_renda</td>\n",
              "      <td>1</td>\n",
              "      <td>0</td>\n",
              "      <td>1</td>\n",
              "      <td>1</td>\n",
              "      <td>3</td>\n",
              "      <td>True</td>\n",
              "    </tr>\n",
              "    <tr>\n",
              "      <th>5</th>\n",
              "      <td>cred_deb</td>\n",
              "      <td>1</td>\n",
              "      <td>0</td>\n",
              "      <td>1</td>\n",
              "      <td>1</td>\n",
              "      <td>3</td>\n",
              "      <td>True</td>\n",
              "    </tr>\n",
              "    <tr>\n",
              "      <th>6</th>\n",
              "      <td>outros_debitos</td>\n",
              "      <td>1</td>\n",
              "      <td>0</td>\n",
              "      <td>0</td>\n",
              "      <td>1</td>\n",
              "      <td>2</td>\n",
              "      <td>True</td>\n",
              "    </tr>\n",
              "    <tr>\n",
              "      <th>7</th>\n",
              "      <td>mau</td>\n",
              "      <td>1</td>\n",
              "      <td>0</td>\n",
              "      <td>1</td>\n",
              "      <td>1</td>\n",
              "      <td>3</td>\n",
              "      <td>True</td>\n",
              "    </tr>\n",
              "  </tbody>\n",
              "</table>\n",
              "</div>"
            ],
            "text/plain": [
              "         variable  correlation  infogain  ...  gradientboost_select  sum  choice\n",
              "0           idade            1         0  ...                     1    2    True\n",
              "1     experiencia            1         0  ...                     1    3    True\n",
              "2  tempo_endereco            1         0  ...                     1    2    True\n",
              "3           renda            1         0  ...                     1    2    True\n",
              "4    debito_renda            1         0  ...                     1    3    True\n",
              "5        cred_deb            1         0  ...                     1    3    True\n",
              "6  outros_debitos            1         0  ...                     1    2    True\n",
              "7             mau            1         0  ...                     1    3    True\n",
              "\n",
              "[8 rows x 7 columns]"
            ]
          },
          "metadata": {
            "tags": []
          },
          "execution_count": 137
        }
      ]
    },
    {
      "cell_type": "code",
      "metadata": {
        "colab": {
          "base_uri": "https://localhost:8080/"
        },
        "id": "m3ZXjHDl3nos",
        "outputId": "5f296f89-79aa-4b84-d4ae-803b093153c7"
      },
      "source": [
        "reduced_features =finalselection['variable'][finalselection['choice'] == True].values\n",
        "print(len(reduced_features))\n",
        "reduced_features"
      ],
      "execution_count": null,
      "outputs": [
        {
          "output_type": "stream",
          "text": [
            "8\n"
          ],
          "name": "stdout"
        },
        {
          "output_type": "execute_result",
          "data": {
            "text/plain": [
              "array(['idade', 'experiencia', 'tempo_endereco', 'renda', 'debito_renda',\n",
              "       'cred_deb', 'outros_debitos', 'mau'], dtype=object)"
            ]
          },
          "metadata": {
            "tags": []
          },
          "execution_count": 138
        }
      ]
    },
    {
      "cell_type": "code",
      "metadata": {
        "id": "yCGaVHMO3nou"
      },
      "source": [
        "from sklearn.decomposition import PCA"
      ],
      "execution_count": null,
      "outputs": []
    },
    {
      "cell_type": "code",
      "metadata": {
        "id": "_LyVpfgw3nou"
      },
      "source": [
        "scaler = MinMaxScaler(feature_range=[0, 1])\n",
        "reduced_features2_rescaled = scaler.fit_transform(df_bal[reduced_features2])"
      ],
      "execution_count": null,
      "outputs": []
    },
    {
      "cell_type": "code",
      "metadata": {
        "colab": {
          "base_uri": "https://localhost:8080/",
          "height": 301
        },
        "id": "ejeuCoej3nov",
        "outputId": "619ef514-5179-416c-c747-5cbd18604541"
      },
      "source": [
        "#Fitting the PCA algorithm with our Data\n",
        "pca = PCA().fit(reduced_features2_rescaled)\n",
        "#Plotting the Cumulative Summation of the Explained Variance\n",
        "plt.figure()\n",
        "plt.plot(np.cumsum(pca.explained_variance_ratio_))\n",
        "plt.xlabel('Number of Components')\n",
        "plt.ylabel('Variance (%)') #for each component\n",
        "plt.title('Pulsar Dataset Explained Variance')\n",
        "plt.show()"
      ],
      "execution_count": null,
      "outputs": [
        {
          "output_type": "display_data",
          "data": {
            "image/png": "[encoded data removed]",
            "text/plain": [
              "<Figure size 432x288 with 1 Axes>"
            ]
          },
          "metadata": {
            "tags": []
          }
        }
      ]
    },
    {
      "cell_type": "markdown",
      "metadata": {
        "id": "G89GFmwm3nov"
      },
      "source": [
        "#### Selecionar 20 componentes que correspondem a aproximadamente 100% dos dados"
      ]
    },
    {
      "cell_type": "markdown",
      "metadata": {
        "id": "0rFzKMeM3now"
      },
      "source": [
        "## Otimização\n",
        "Valores de KS, ROC"
      ]
    },
    {
      "cell_type": "code",
      "metadata": {
        "id": "pPhAxVNT3nox"
      },
      "source": [
        "X = df\n",
        "y = df_bal['mau']"
      ],
      "execution_count": null,
      "outputs": []
    },
    {
      "cell_type": "code",
      "metadata": {
        "id": "HnHnZyHB3nox"
      },
      "source": [
        "## Scoring functions ##\n",
        " \n",
        "from sklearn.metrics import confusion_matrix\n",
        "def scoring(X,y,y_test,y_pred, y_pred_prob, model):\n",
        "    tn,fp,fn,tp=confusion_matrix(y_test,y_pred).ravel()\n",
        "    print('True positive is ', tp)\n",
        "    print('True negative is ', tn)\n",
        "    print('False positive is ', fp)\n",
        "    print('False negative is ', fn)\n",
        "    \n",
        "    accuracy = cross_val_score(model, X, y, cv = 5, scoring='accuracy').mean()\n",
        "    f1 = cross_val_score(model, X, y, cv = 5, scoring='f1').mean()\n",
        "    precision = cross_val_score(model, X, y, cv = 5, scoring='precision').mean()\n",
        "    recall = cross_val_score(model, X, y, cv = 5, scoring='recall').mean()\n",
        "    roc_auc = cross_val_score(model, X, y, cv = 5, scoring='roc_auc').mean()\n",
        "    \n",
        "    print('Cross validation mean accuracy is ', accuracy)\n",
        "    print('Cross validation mean f1 is ', f1)\n",
        "    print('Cross validation mean precision is ', precision)\n",
        "    print('Cross validation mean recall is ', recall)\n",
        "    print('Cross validation mean roc_auc is ', roc_auc)\n",
        "    \n",
        "    y_prob = y_pred_prob[:,1]\n",
        "    data = {'y':list(y_pred), 'p':list(y_prob)}\n",
        "    out = pd.DataFrame(data)\n",
        "    ks_score_test = ks(data=out, target ='y', prob ='p')\n",
        "    \n",
        "def ks(data=None,target=None, prob=None):\n",
        "    data['target0'] = 1 - data[target]\n",
        "    data['bucket'] = pd.qcut(data[prob], 10, duplicates='drop')\n",
        "    grouped = data.groupby('bucket', as_index = False)\n",
        "    kstable = pd.DataFrame()\n",
        "    kstable['min_prob'] = grouped.min()[prob]\n",
        "    kstable['max_prob'] = grouped.max()[prob]\n",
        "    kstable['events']   = grouped.sum()[target]\n",
        "    kstable['nonevents'] = grouped.sum()['target0']\n",
        "    kstable = kstable.sort_values(by=\"min_prob\", ascending=False).reset_index(drop = True)\n",
        "    kstable['event_rate'] = (kstable.events / data[target].sum()).apply('{0:.2%}'.format)\n",
        "    kstable['nonevent_rate'] = (kstable.nonevents / data['target0'].sum()).apply('{0:.2%}'.format)\n",
        "    kstable['cum_eventrate']=(kstable.events / data[target].sum()).cumsum()\n",
        "    kstable['cum_noneventrate']=(kstable.nonevents / data['target0'].sum()).cumsum()\n",
        "    kstable['KS'] = np.round(kstable['cum_eventrate']-kstable['cum_noneventrate'], 3) * 100\n",
        "\n",
        "    #Formating\n",
        "    kstable['cum_eventrate']= kstable['cum_eventrate'].apply('{0:.2%}'.format)\n",
        "    kstable['cum_noneventrate']= kstable['cum_noneventrate'].apply('{0:.2%}'.format)\n",
        "    #kstable.index = range(1,11)\n",
        "    kstable.index.rename('Decile', inplace=True)\n",
        "    pd.set_option('display.max_columns', 9)\n",
        "    print(kstable)\n",
        "    \n",
        "    #Display KS\n",
        "    print(Fore.RED + \"KS is \" + str(max(kstable['KS']))+\"%\"+ \" at decile \" + str((kstable.index[kstable['KS']==max(kstable['KS'])][0])))\n",
        "    return(kstable)"
      ],
      "execution_count": null,
      "outputs": []
    }
  ]
}